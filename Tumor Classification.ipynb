{
 "cells": [
  {
   "cell_type": "markdown",
   "metadata": {
    "id": "sYHm7JaohIvI"
   },
   "source": [
    "# **Program Brain Tumor Classification**"
   ]
  },
  {
   "cell_type": "markdown",
   "metadata": {
    "id": "UoawFMQVhPp8"
   },
   "source": [
    "#**Data Preparation**\n",
    "\n",
    "- Import Library yang akan digunakan\n",
    "- Download dataset yang akan digunakan"
   ]
  },
  {
   "cell_type": "markdown",
   "metadata": {
    "id": "CHmUGJU9N0-R"
   },
   "source": []
  },
  {
   "cell_type": "code",
   "execution_count": null,
   "metadata": {
    "colab": {
     "base_uri": "https://localhost:8080/"
    },
    "executionInfo": {
     "elapsed": 558,
     "status": "ok",
     "timestamp": 1625909491952,
     "user": {
      "displayName": "181_025 Ayu Peraiyantika",
      "photoUrl": "https://lh3.googleusercontent.com/a-/AOh14GgfMRgiaBxlOCh32JogPUwO7G1Q8dzYrUKK_MsHUA=s64",
      "userId": "17040991686214721601"
     },
     "user_tz": -420
    },
    "id": "o7q9k-nZhEFV",
    "outputId": "d9e5737c-7c9f-44a0-df3e-85b887c39d75"
   },
   "outputs": [
    {
     "name": "stdout",
     "output_type": "stream",
     "text": [
      "Drive already mounted at /content/gdrive; to attempt to forcibly remount, call drive.mount(\"/content/gdrive\", force_remount=True).\n"
     ]
    }
   ],
   "source": [
    "#Load Directory Google Drive\n",
    "from google.colab import drive\n",
    "drive.mount('/content/gdrive')"
   ]
  },
  {
   "cell_type": "code",
   "execution_count": null,
   "metadata": {
    "id": "V_Cauz-8hwMa"
   },
   "outputs": [],
   "source": [
    "#Load Kaggle Config\n",
    "import os\n",
    "os.environ['KAGGLE_CONFIG_DIR'] = \"/content/gdrive/My Drive/Colab Notebooks/TubesMachineLearning/\""
   ]
  },
  {
   "cell_type": "code",
   "execution_count": null,
   "metadata": {
    "colab": {
     "base_uri": "https://localhost:8080/"
    },
    "executionInfo": {
     "elapsed": 11,
     "status": "ok",
     "timestamp": 1625909492472,
     "user": {
      "displayName": "181_025 Ayu Peraiyantika",
      "photoUrl": "https://lh3.googleusercontent.com/a-/AOh14GgfMRgiaBxlOCh32JogPUwO7G1Q8dzYrUKK_MsHUA=s64",
      "userId": "17040991686214721601"
     },
     "user_tz": -420
    },
    "id": "uSU9Xsqdh_lL",
    "outputId": "bc30a64a-ab0f-4080-d3b6-3ca085c3c220"
   },
   "outputs": [
    {
     "name": "stdout",
     "output_type": "stream",
     "text": [
      "/content/gdrive/My Drive/Colab Notebooks/TubesMachineLearning\n"
     ]
    }
   ],
   "source": [
    "#Changing the working directory\n",
    "\n",
    "%cd /content/gdrive/My Drive/Colab Notebooks/TubesMachineLearning/"
   ]
  },
  {
   "cell_type": "code",
   "execution_count": null,
   "metadata": {
    "colab": {
     "base_uri": "https://localhost:8080/"
    },
    "executionInfo": {
     "elapsed": 775,
     "status": "ok",
     "timestamp": 1625909493239,
     "user": {
      "displayName": "181_025 Ayu Peraiyantika",
      "photoUrl": "https://lh3.googleusercontent.com/a-/AOh14GgfMRgiaBxlOCh32JogPUwO7G1Q8dzYrUKK_MsHUA=s64",
      "userId": "17040991686214721601"
     },
     "user_tz": -420
    },
    "id": "-6oFVbsQiGIV",
    "outputId": "e026f1b7-5a7d-4267-a024-e95ed8e63f09"
   },
   "outputs": [
    {
     "name": "stdout",
     "output_type": "stream",
     "text": [
      "Downloading brain-mri-images-for-brain-tumor-detection.zip to /content/gdrive/My Drive/Colab Notebooks/TubesMachineLearning\n",
      "\r",
      "  0% 0.00/15.1M [00:00<?, ?B/s]\r",
      " 99% 15.0M/15.1M [00:00<00:00, 156MB/s]\n",
      "\r",
      "100% 15.1M/15.1M [00:00<00:00, 140MB/s]\n"
     ]
    }
   ],
   "source": [
    "#Download Dataset MRI Brain Tumor from Kaggle\n",
    "!kaggle datasets download -d navoneel/brain-mri-images-for-brain-tumor-detection"
   ]
  },
  {
   "cell_type": "code",
   "execution_count": null,
   "metadata": {
    "id": "ytlUSvhpiyn4"
   },
   "outputs": [],
   "source": [
    "#Library\n",
    "from tensorflow.keras.models import Sequential\n",
    "from tensorflow.keras.layers import Conv2D, MaxPooling2D, Activation, Dense, Flatten, Dropout\n",
    "\n",
    "from tensorflow.keras.preprocessing.image import ImageDataGenerator\n",
    "from sklearn.model_selection import train_test_split\n",
    "from keras import backend as K\n",
    "from keras.preprocessing import image\n",
    "\n",
    "import time\n",
    "import matplotlib.pyplot as plt\n",
    "import numpy as np"
   ]
  },
  {
   "cell_type": "code",
   "execution_count": null,
   "metadata": {
    "id": "6BnFixyri2hr"
   },
   "outputs": [],
   "source": [
    "#Extract File Zip from Directory in Gdrive\n",
    "import zipfile\n",
    "local_zip = \"/content/gdrive/My Drive/Colab Notebooks/TubesMachineLearning/brain-mri-images-for-brain-tumor-detection.zip\"\n",
    "zip_ref = zipfile.ZipFile(local_zip, \"r\")\n",
    "zip_ref.extractall()\n",
    "zip_ref.close()"
   ]
  },
  {
   "cell_type": "markdown",
   "metadata": {
    "id": "_dLXYLUrjGDN"
   },
   "source": [
    "#**Data Understanding**"
   ]
  },
  {
   "cell_type": "code",
   "execution_count": null,
   "metadata": {
    "colab": {
     "base_uri": "https://localhost:8080/"
    },
    "executionInfo": {
     "elapsed": 12,
     "status": "ok",
     "timestamp": 1625909500481,
     "user": {
      "displayName": "181_025 Ayu Peraiyantika",
      "photoUrl": "https://lh3.googleusercontent.com/a-/AOh14GgfMRgiaBxlOCh32JogPUwO7G1Q8dzYrUKK_MsHUA=s64",
      "userId": "17040991686214721601"
     },
     "user_tz": -420
    },
    "id": "gJr2pxgmjHYL",
    "outputId": "5e5efc8f-5ed7-44ff-814c-28657f4950bd"
   },
   "outputs": [
    {
     "name": "stdout",
     "output_type": "stream",
     "text": [
      "Jumlah Data Tidak Tumor Otak:  98\n",
      "Jumlah Data Tumor Otak:  155\n"
     ]
    }
   ],
   "source": [
    "#Melihat sebaran data pada setiap kelas\n",
    "#Jumlah Data No Tumor Otak\n",
    "print(\"Jumlah Data Tidak Tumor Otak: \", len(os.listdir(\"/content/gdrive/My Drive/Colab Notebooks/TubesMachineLearning/no\")))\n",
    "#Jumlah Data Tumor Otak\n",
    "print(\"Jumlah Data Tumor Otak: \", len(os.listdir(\"/content/gdrive/My Drive/Colab Notebooks/TubesMachineLearning/yes\")))"
   ]
  },
  {
   "cell_type": "code",
   "execution_count": null,
   "metadata": {
    "id": "ga8MM8ZxjYsm"
   },
   "outputs": [],
   "source": [
    "#Path Base Directory\n",
    "base_dir = \"/content/gdrive/My Drive/Colab Notebooks/TubesMachineLearning/\"\n",
    "train_dir = os.path.join(base_dir, \"train\")\n",
    "validation_dir = os.path.join(base_dir, \"validation\")\n",
    "\n",
    "#Path Asli Dataset\n",
    "no_dir = os.path.join(base_dir,\"no\")\n",
    "yes_dir = os.path.join(base_dir, \"yes\")\n",
    "\n",
    "#Mengecek serta Membuat direktori train dan validation jika belum tersedia\n",
    "if not os.path.exists(train_dir):\n",
    "  os.mkdir(train_dir)\n",
    "if not os.path.exists(validation_dir):\n",
    "  os.mkdir(validation_dir)"
   ]
  },
  {
   "cell_type": "code",
   "execution_count": null,
   "metadata": {
    "id": "MkteRbL-jnYn"
   },
   "outputs": [],
   "source": [
    "#Membuat direktori untuk menampung data generator (untuk data training dan data validation)\n",
    "train_no = os.path.join(train_dir, \"no tumor otak\")\n",
    "train_yes = os.path.join(train_dir, \"tumor otak\")\n",
    "\n",
    "val_no = os.path.join(validation_dir, \"no tumor otak\")\n",
    "val_yes = os.path.join(validation_dir, \"tumor otak\")\n",
    "\n",
    "#Mengecek serta Membuat direktori train (no tumor otak dan tumor otak)\n",
    "if not os.path.exists(train_no):\n",
    "  os.mkdir(train_no)\n",
    "if not os.path.exists(train_yes):\n",
    "  os.mkdir(train_yes)\n",
    "\n",
    "#Mengecek serta Membuat direktori validation (no tumor otak dan tumor otak) jika belum tersedia\n",
    "if not os.path.exists(val_no):\n",
    "    os.mkdir(val_no)\n",
    "if not os.path.exists(val_yes):\n",
    "    os.mkdir(val_yes)"
   ]
  },
  {
   "cell_type": "code",
   "execution_count": null,
   "metadata": {
    "id": "L__Io_2vkQ1n"
   },
   "outputs": [],
   "source": [
    "#Memecah direktori no tumor otak menjadi data train sebesar 80% dan data validation sebesar 20%\n",
    "train_no_dir, val_no_dir = train_test_split(os.listdir(no_dir), test_size=0.2)\n",
    "\n",
    "#Memecah direktori tumor otak menjadi data train sebesar 80% dan data validation sebesar 20%\n",
    "train_yes_dir, val_yes_dir = train_test_split(os.listdir(yes_dir), test_size=0.2)"
   ]
  },
  {
   "cell_type": "code",
   "execution_count": null,
   "metadata": {
    "id": "3OVRU-zPkdFl"
   },
   "outputs": [],
   "source": [
    "#copy data train dan data validation kedalam direktori baru\n",
    "import shutil\n",
    "for i in train_no_dir:\n",
    "  shutil.copy(os.path.join(no_dir, i), os.path.join(train_no,i))\n",
    "\n",
    "for i in train_yes_dir:\n",
    "  shutil.copy(os.path.join(yes_dir, i), os.path.join(train_yes,i))\n",
    "\n",
    "for i in val_no_dir:\n",
    "  shutil.copy(os.path.join(no_dir, i), os.path.join(val_no,i))\n",
    "\n",
    "for i in val_yes_dir:\n",
    "  shutil.copy(os.path.join(yes_dir, i), os.path.join(val_yes,i))"
   ]
  },
  {
   "cell_type": "code",
   "execution_count": null,
   "metadata": {
    "colab": {
     "base_uri": "https://localhost:8080/"
    },
    "executionInfo": {
     "elapsed": 21,
     "status": "ok",
     "timestamp": 1625909503319,
     "user": {
      "displayName": "181_025 Ayu Peraiyantika",
      "photoUrl": "https://lh3.googleusercontent.com/a-/AOh14GgfMRgiaBxlOCh32JogPUwO7G1Q8dzYrUKK_MsHUA=s64",
      "userId": "17040991686214721601"
     },
     "user_tz": -420
    },
    "id": "rtX1Rm8AmuWn",
    "outputId": "f4418623-ec9b-44bd-c9ad-c530b7f5d707"
   },
   "outputs": [
    {
     "name": "stdout",
     "output_type": "stream",
     "text": [
      "Jumlah Data No Tumor Otak:  98\n",
      "Jumlah Data Tumor Otak:  155\n",
      "======================================================== DATA TRAIN ==================================================\n",
      "Jumlah Data Train No Tumor Otak:  78\n",
      "Jumlah Data Train Tumor Otak:  124\n",
      "===================================================== DATA VALIDATION ================================================\n",
      "Jumlah Data Validation No Tumor Otak:  20\n",
      "Jumlah Data Validation Tumor Otak:  31\n"
     ]
    }
   ],
   "source": [
    "#Melihat sebaran data pada setiap kelas\n",
    "#Jumlah Data No Tumor Otak\n",
    "print(\"Jumlah Data No Tumor Otak: \", len(os.listdir(\"/content/gdrive/My Drive/Colab Notebooks/TubesMachineLearning/no\")))\n",
    "#Jumlah Data Tumor Otak\n",
    "print(\"Jumlah Data Tumor Otak: \", len(os.listdir(\"/content/gdrive/My Drive/Colab Notebooks/TubesMachineLearning/yes\")))\n",
    "\n",
    "print(\"======================================================== DATA TRAIN ==================================================\")\n",
    "print(\"Jumlah Data Train No Tumor Otak: \", len(os.listdir(train_no)))\n",
    "print(\"Jumlah Data Train Tumor Otak: \", len(os.listdir(train_yes)))\n",
    "\n",
    "print(\"===================================================== DATA VALIDATION ================================================\")\n",
    "print(\"Jumlah Data Validation No Tumor Otak: \", len(os.listdir(val_no)))\n",
    "print(\"Jumlah Data Validation Tumor Otak: \", len(os.listdir(val_yes)))\n"
   ]
  },
  {
   "cell_type": "markdown",
   "metadata": {
    "id": "57GKbLrknjkI"
   },
   "source": [
    "#**Data Modeling**"
   ]
  },
  {
   "cell_type": "code",
   "execution_count": null,
   "metadata": {
    "colab": {
     "base_uri": "https://localhost:8080/",
     "height": 245
    },
    "executionInfo": {
     "elapsed": 61,
     "status": "error",
     "timestamp": 1649305025511,
     "user": {
      "displayName": "181_151 Erik Fadliansyah",
      "userId": "18026540475064999388"
     },
     "user_tz": -420
    },
    "id": "g4aZypvTnf6z",
    "outputId": "93df08ad-8171-41ca-be0c-540b5b29b73b"
   },
   "outputs": [
    {
     "ename": "NameError",
     "evalue": "ignored",
     "output_type": "error",
     "traceback": [
      "\u001b[0;31m---------------------------------------------------------------------------\u001b[0m",
      "\u001b[0;31mNameError\u001b[0m                                 Traceback (most recent call last)",
      "\u001b[0;32m<ipython-input-1-d247ecec0a1d>\u001b[0m in \u001b[0;36m<module>\u001b[0;34m()\u001b[0m\n\u001b[1;32m      1\u001b[0m \u001b[0;31m#Membuat Image Data Generator\u001b[0m\u001b[0;34m\u001b[0m\u001b[0;34m\u001b[0m\u001b[0;34m\u001b[0m\u001b[0m\n\u001b[0;32m----> 2\u001b[0;31m train_data_gen = ImageDataGenerator(\n\u001b[0m\u001b[1;32m      3\u001b[0m     \u001b[0mrescale\u001b[0m \u001b[0;34m=\u001b[0m \u001b[0;36m1.\u001b[0m\u001b[0;34m/\u001b[0m\u001b[0;36m255\u001b[0m \u001b[0;34m,\u001b[0m \u001b[0;31m#membuat warna menjadi abu - abu\u001b[0m\u001b[0;34m\u001b[0m\u001b[0;34m\u001b[0m\u001b[0m\n\u001b[1;32m      4\u001b[0m     \u001b[0mrotation_range\u001b[0m \u001b[0;34m=\u001b[0m \u001b[0;36m20\u001b[0m\u001b[0;34m,\u001b[0m\u001b[0;34m\u001b[0m\u001b[0;34m\u001b[0m\u001b[0m\n\u001b[1;32m      5\u001b[0m     \u001b[0mhorizontal_flip\u001b[0m \u001b[0;34m=\u001b[0m \u001b[0;32mTrue\u001b[0m\u001b[0;34m,\u001b[0m \u001b[0;31m#tampak kiri dan kanan\u001b[0m\u001b[0;34m\u001b[0m\u001b[0;34m\u001b[0m\u001b[0m\n",
      "\u001b[0;31mNameError\u001b[0m: name 'ImageDataGenerator' is not defined"
     ]
    }
   ],
   "source": [
    "#Membuat Image Data Generator\n",
    "train_data_gen = ImageDataGenerator(\n",
    "    rescale = 1./255 , #membuat warna menjadi abu - abu\n",
    "    rotation_range = 20,\n",
    "    horizontal_flip = True, #tampak kiri dan kanan\n",
    "    shear_range = 0.2,\n",
    "    fill_mode = \"nearest\"\n",
    ")\n",
    "\n",
    "#Test Data Generator\n",
    "test_data_gen = ImageDataGenerator(\n",
    "    rescale = 1./255 , #membuat warna menjadi abu - abu\n",
    "    rotation_range = 20,\n",
    "    horizontal_flip = True, #tampak kiri dan kanan\n",
    "    shear_range = 0.2,\n",
    "    fill_mode = \"nearest\"\n",
    ")"
   ]
  },
  {
   "cell_type": "code",
   "execution_count": null,
   "metadata": {
    "id": "tcxUXJmzn4vH"
   },
   "outputs": [],
   "source": [
    "train_generator = train_data_gen.flow_from_directory(\n",
    "    train_dir, #nama direktori data latih\n",
    "    target_size=(150,150), #normalisasi gambar menjadi 150*150 pixel\n",
    "    batch_size=32,\n",
    "    class_mode='binary' #karena merupakan masalah klasifikasi multikelas maka menggunakan class_mode binary\n",
    ")\n",
    "\n",
    "validation_generator = test_data_gen.flow_from_directory(\n",
    "    validation_dir, #nama direktori data latih\n",
    "    target_size=(150,150), #normalisasi gambar menjadi 150*150 pixel\n",
    "    batch_size=32,\n",
    "    class_mode='binary' #karena merupakan masalah klasifikasi binari kelas maka menggunakan class_mode binary\n",
    ")"
   ]
  },
  {
   "cell_type": "code",
   "execution_count": null,
   "metadata": {
    "id": "dgMKRXz_oBeJ"
   },
   "outputs": [],
   "source": [
    "#Membuat fungsi recall untuk mengukur tingkat keberhasilan sistem dalam menemukan kembali sebuah informasi\n",
    "def rec(y_true, y_pred):\n",
    "    true_positives = K.sum(K.round(K.clip(y_true * y_pred, 0, 1)))\n",
    "    possible_positives = K.sum(K.round(K.clip(y_true, 0, 1)))\n",
    "    recall = true_positives / (possible_positives + K.epsilon())\n",
    "    return recall\n",
    "\n",
    "#Membuat fungsi Precision untuk mengukur tingkat ketepatan antara informasi yang diminta.\n",
    "def prec(y_true, y_pred):\n",
    "    true_positives = K.sum(K.round(K.clip(y_true * y_pred, 0, 1)))\n",
    "    predicted_positives = K.sum(K.round(K.clip(y_pred, 0, 1)))\n",
    "    precision = true_positives / (predicted_positives + K.epsilon())\n",
    "    return precision"
   ]
  },
  {
   "cell_type": "code",
   "execution_count": null,
   "metadata": {
    "id": "-9_weJKXU_g_"
   },
   "outputs": [],
   "source": [
    "ModelAdam = Sequential([\n",
    "    Conv2D(filters=32, input_shape=(150,150,3), kernel_size=(3,3), strides=(4,4),  activation='relu'),\n",
    "    MaxPooling2D(pool_size=(2,2), strides=(2,2)),\n",
    "    Conv2D(filters=64, kernel_size=(3,3), strides=(1,1), activation='relu'),\n",
    "    MaxPooling2D(pool_size=(2,2), strides=(2,2), padding='valid'),\n",
    "    Conv2D(filters=128, kernel_size=(3,3), strides=(1,1), activation='relu'),\n",
    "    Conv2D(filters=256, kernel_size=(3,3), strides=(1,1),  activation='relu'),\n",
    "    MaxPooling2D(pool_size=(2,2), strides=(2,2)),\n",
    "    Flatten(),\n",
    "    Dense(1, activation='sigmoid')\n",
    "])\n",
    "\n",
    "#Membuat Model Sequential dengan Hyper Parameter Optimasi Nadam\n",
    "ModelNadam = Sequential([\n",
    "    Conv2D(filters=32, input_shape=(150,150,3), kernel_size=(3,3), strides=(4,4),  activation='relu'),\n",
    "    MaxPooling2D(pool_size=(2,2), strides=(2,2)),\n",
    "    Conv2D(filters=64, kernel_size=(3,3), strides=(1,1), activation='relu'),\n",
    "    MaxPooling2D(pool_size=(2,2), strides=(2,2), padding='valid'),\n",
    "    Conv2D(filters=128, kernel_size=(3,3), strides=(1,1), activation='relu'),\n",
    "    Conv2D(filters=256, kernel_size=(3,3), strides=(1,1),  activation='relu'),\n",
    "    MaxPooling2D(pool_size=(2,2), strides=(2,2)),\n",
    "    Flatten(),\n",
    "    Dense(1, activation='sigmoid')\n",
    "])"
   ]
  },
  {
   "cell_type": "code",
   "execution_count": null,
   "metadata": {
    "id": "1PbGT3ZnoaLR"
   },
   "outputs": [],
   "source": [
    "#Compile Parameter Optimasi Adam dan Nadam\n",
    "ModelAdam.compile(loss='binary_crossentropy', optimizer='Adam', metrics=['accuracy', prec, rec])\n",
    "ModelAdam.summary()\n",
    "print(\"=============================\")\n",
    "ModelNadam.compile(loss='binary_crossentropy', optimizer='Nadam', metrics=['accuracy', prec, rec])\n",
    "ModelNadam.summary()\n"
   ]
  },
  {
   "cell_type": "markdown",
   "metadata": {
    "id": "cjF833iToe0I"
   },
   "source": [
    "#**Train Model**\n",
    "\n"
   ]
  },
  {
   "cell_type": "code",
   "execution_count": null,
   "metadata": {
    "colab": {
     "base_uri": "https://localhost:8080/"
    },
    "executionInfo": {
     "elapsed": 681360,
     "status": "ok",
     "timestamp": 1625910934595,
     "user": {
      "displayName": "181_025 Ayu Peraiyantika",
      "photoUrl": "https://lh3.googleusercontent.com/a-/AOh14GgfMRgiaBxlOCh32JogPUwO7G1Q8dzYrUKK_MsHUA=s64",
      "userId": "17040991686214721601"
     },
     "user_tz": -420
    },
    "id": "A_IMzohtoh-0",
    "outputId": "cd2d64cb-4a68-44cb-a43a-336502caaf80"
   },
   "outputs": [
    {
     "name": "stdout",
     "output_type": "stream",
     "text": [
      "\n",
      "Start Training Model Adam\n",
      "\n",
      "Epoch 1/100\n",
      "7/7 - 3s - loss: 0.0020 - accuracy: 1.0000 - prec: 1.0000 - rec: 1.0000 - val_loss: 0.6948 - val_accuracy: 0.8824 - val_prec: 0.8731 - val_rec: 0.9320\n",
      "Epoch 2/100\n",
      "7/7 - 3s - loss: 0.0011 - accuracy: 1.0000 - prec: 1.0000 - rec: 1.0000 - val_loss: 0.6379 - val_accuracy: 0.8824 - val_prec: 0.9268 - val_rec: 0.9048\n",
      "Epoch 3/100\n",
      "7/7 - 3s - loss: 0.0015 - accuracy: 1.0000 - prec: 1.0000 - rec: 1.0000 - val_loss: 0.6281 - val_accuracy: 0.8824 - val_prec: 0.8586 - val_rec: 0.9706\n",
      "Epoch 4/100\n",
      "7/7 - 3s - loss: 0.0014 - accuracy: 1.0000 - prec: 1.0000 - rec: 1.0000 - val_loss: 0.8682 - val_accuracy: 0.8824 - val_prec: 0.8759 - val_rec: 0.9474\n",
      "Epoch 5/100\n",
      "7/7 - 3s - loss: 0.0015 - accuracy: 1.0000 - prec: 1.0000 - rec: 1.0000 - val_loss: 0.4440 - val_accuracy: 0.9216 - val_prec: 0.9444 - val_rec: 0.9349\n",
      "Epoch 6/100\n",
      "7/7 - 3s - loss: 0.0020 - accuracy: 1.0000 - prec: 1.0000 - rec: 1.0000 - val_loss: 0.9113 - val_accuracy: 0.8824 - val_prec: 0.8865 - val_rec: 0.9474\n",
      "Epoch 7/100\n",
      "7/7 - 3s - loss: 0.0022 - accuracy: 1.0000 - prec: 1.0000 - rec: 1.0000 - val_loss: 0.7484 - val_accuracy: 0.9020 - val_prec: 0.8333 - val_rec: 1.0000\n",
      "Epoch 8/100\n",
      "7/7 - 3s - loss: 0.0016 - accuracy: 1.0000 - prec: 1.0000 - rec: 1.0000 - val_loss: 0.4901 - val_accuracy: 0.9216 - val_prec: 0.9524 - val_rec: 0.9524\n",
      "Epoch 9/100\n",
      "7/7 - 3s - loss: 0.0017 - accuracy: 1.0000 - prec: 1.0000 - rec: 1.0000 - val_loss: 0.6174 - val_accuracy: 0.9216 - val_prec: 0.9023 - val_rec: 0.9737\n",
      "Epoch 10/100\n",
      "7/7 - 3s - loss: 9.0052e-04 - accuracy: 1.0000 - prec: 1.0000 - rec: 1.0000 - val_loss: 0.6963 - val_accuracy: 0.8824 - val_prec: 0.8913 - val_rec: 0.9737\n",
      "Epoch 11/100\n",
      "7/7 - 3s - loss: 0.0024 - accuracy: 1.0000 - prec: 1.0000 - rec: 1.0000 - val_loss: 0.5716 - val_accuracy: 0.9020 - val_prec: 0.9083 - val_rec: 0.9320\n",
      "Epoch 12/100\n",
      "7/7 - 3s - loss: 0.0014 - accuracy: 1.0000 - prec: 1.0000 - rec: 1.0000 - val_loss: 0.5565 - val_accuracy: 0.9608 - val_prec: 0.9750 - val_rec: 0.9750\n",
      "Epoch 13/100\n",
      "7/7 - 3s - loss: 0.0017 - accuracy: 1.0000 - prec: 1.0000 - rec: 1.0000 - val_loss: 0.8683 - val_accuracy: 0.8824 - val_prec: 0.9048 - val_rec: 0.9338\n",
      "Epoch 14/100\n",
      "7/7 - 3s - loss: 5.5505e-04 - accuracy: 1.0000 - prec: 1.0000 - rec: 1.0000 - val_loss: 0.8148 - val_accuracy: 0.8824 - val_prec: 0.8992 - val_rec: 0.9060\n",
      "Epoch 15/100\n",
      "7/7 - 3s - loss: 4.4119e-04 - accuracy: 1.0000 - prec: 1.0000 - rec: 1.0000 - val_loss: 0.6653 - val_accuracy: 0.9216 - val_prec: 0.9286 - val_rec: 0.9737\n",
      "Epoch 16/100\n",
      "7/7 - 3s - loss: 2.9084e-04 - accuracy: 1.0000 - prec: 1.0000 - rec: 1.0000 - val_loss: 0.8154 - val_accuracy: 0.8627 - val_prec: 0.8313 - val_rec: 0.9722\n",
      "Epoch 17/100\n",
      "7/7 - 3s - loss: 7.7422e-04 - accuracy: 1.0000 - prec: 1.0000 - rec: 1.0000 - val_loss: 0.8856 - val_accuracy: 0.8627 - val_prec: 0.9091 - val_rec: 0.9045\n",
      "Epoch 18/100\n",
      "7/7 - 3s - loss: 5.3609e-04 - accuracy: 1.0000 - prec: 1.0000 - rec: 1.0000 - val_loss: 0.7307 - val_accuracy: 0.8824 - val_prec: 0.8848 - val_rec: 0.9262\n",
      "Epoch 19/100\n",
      "7/7 - 3s - loss: 8.0729e-04 - accuracy: 1.0000 - prec: 1.0000 - rec: 1.0000 - val_loss: 0.6635 - val_accuracy: 0.8824 - val_prec: 0.8833 - val_rec: 0.9412\n",
      "Epoch 20/100\n",
      "7/7 - 3s - loss: 5.6256e-04 - accuracy: 1.0000 - prec: 1.0000 - rec: 1.0000 - val_loss: 0.7305 - val_accuracy: 0.9020 - val_prec: 0.8419 - val_rec: 0.9783\n",
      "Epoch 21/100\n",
      "7/7 - 3s - loss: 3.5488e-04 - accuracy: 1.0000 - prec: 1.0000 - rec: 1.0000 - val_loss: 0.7962 - val_accuracy: 0.8824 - val_prec: 0.8731 - val_rec: 0.9320\n",
      "Epoch 22/100\n",
      "7/7 - 3s - loss: 4.8321e-04 - accuracy: 1.0000 - prec: 1.0000 - rec: 1.0000 - val_loss: 0.6008 - val_accuracy: 0.8627 - val_prec: 0.8536 - val_rec: 0.9474\n",
      "Epoch 23/100\n",
      "7/7 - 3s - loss: 2.2893e-04 - accuracy: 1.0000 - prec: 1.0000 - rec: 1.0000 - val_loss: 0.6310 - val_accuracy: 0.9216 - val_prec: 0.8981 - val_rec: 0.9583\n",
      "Epoch 24/100\n",
      "7/7 - 3s - loss: 4.9193e-04 - accuracy: 1.0000 - prec: 1.0000 - rec: 1.0000 - val_loss: 0.7484 - val_accuracy: 0.9216 - val_prec: 0.8681 - val_rec: 0.9375\n",
      "Epoch 25/100\n",
      "7/7 - 3s - loss: 1.7448e-04 - accuracy: 1.0000 - prec: 1.0000 - rec: 1.0000 - val_loss: 0.7999 - val_accuracy: 0.8824 - val_prec: 0.9000 - val_rec: 0.9444\n",
      "Epoch 26/100\n",
      "7/7 - 3s - loss: 4.1942e-04 - accuracy: 1.0000 - prec: 1.0000 - rec: 1.0000 - val_loss: 0.7445 - val_accuracy: 0.8824 - val_prec: 0.8913 - val_rec: 0.9615\n",
      "Epoch 27/100\n",
      "7/7 - 2s - loss: 2.6427e-04 - accuracy: 1.0000 - prec: 1.0000 - rec: 1.0000 - val_loss: 0.6978 - val_accuracy: 0.9020 - val_prec: 0.9083 - val_rec: 0.9231\n",
      "Epoch 28/100\n",
      "7/7 - 3s - loss: 4.2692e-04 - accuracy: 1.0000 - prec: 1.0000 - rec: 1.0000 - val_loss: 0.8128 - val_accuracy: 0.9216 - val_prec: 0.9056 - val_rec: 0.9643\n",
      "Epoch 29/100\n",
      "7/7 - 3s - loss: 2.9591e-04 - accuracy: 1.0000 - prec: 1.0000 - rec: 1.0000 - val_loss: 0.6532 - val_accuracy: 0.9020 - val_prec: 0.8968 - val_rec: 0.9500\n",
      "Epoch 30/100\n",
      "7/7 - 3s - loss: 2.9960e-04 - accuracy: 1.0000 - prec: 1.0000 - rec: 1.0000 - val_loss: 0.8094 - val_accuracy: 0.8431 - val_prec: 0.8417 - val_rec: 0.9412\n",
      "Epoch 31/100\n",
      "7/7 - 3s - loss: 1.6439e-04 - accuracy: 1.0000 - prec: 1.0000 - rec: 1.0000 - val_loss: 0.7157 - val_accuracy: 0.8627 - val_prec: 0.8333 - val_rec: 0.9545\n",
      "Epoch 32/100\n",
      "7/7 - 3s - loss: 3.3762e-04 - accuracy: 1.0000 - prec: 1.0000 - rec: 1.0000 - val_loss: 0.8586 - val_accuracy: 0.8824 - val_prec: 0.8636 - val_rec: 0.9262\n",
      "Epoch 33/100\n",
      "7/7 - 2s - loss: 1.2643e-04 - accuracy: 1.0000 - prec: 1.0000 - rec: 1.0000 - val_loss: 0.8071 - val_accuracy: 0.8824 - val_prec: 0.9057 - val_rec: 0.9057\n",
      "Epoch 34/100\n",
      "7/7 - 3s - loss: 4.3614e-04 - accuracy: 1.0000 - prec: 1.0000 - rec: 1.0000 - val_loss: 0.7437 - val_accuracy: 0.8824 - val_prec: 0.8750 - val_rec: 0.9688\n",
      "Epoch 35/100\n",
      "7/7 - 2s - loss: 4.8698e-04 - accuracy: 1.0000 - prec: 1.0000 - rec: 1.0000 - val_loss: 0.5378 - val_accuracy: 0.8824 - val_prec: 0.8759 - val_rec: 0.9474\n",
      "Epoch 36/100\n",
      "7/7 - 2s - loss: 3.7204e-04 - accuracy: 1.0000 - prec: 1.0000 - rec: 1.0000 - val_loss: 0.8986 - val_accuracy: 0.8627 - val_prec: 0.8833 - val_rec: 0.9057\n",
      "Epoch 37/100\n",
      "7/7 - 2s - loss: 2.5912e-04 - accuracy: 1.0000 - prec: 1.0000 - rec: 1.0000 - val_loss: 0.8761 - val_accuracy: 0.8824 - val_prec: 0.8452 - val_rec: 0.9583\n",
      "Epoch 38/100\n",
      "7/7 - 2s - loss: 4.4014e-04 - accuracy: 1.0000 - prec: 1.0000 - rec: 1.0000 - val_loss: 0.6385 - val_accuracy: 0.8431 - val_prec: 0.8417 - val_rec: 0.9412\n",
      "Epoch 39/100\n",
      "7/7 - 2s - loss: 2.6098e-04 - accuracy: 1.0000 - prec: 1.0000 - rec: 1.0000 - val_loss: 1.0127 - val_accuracy: 0.8824 - val_prec: 0.8512 - val_rec: 0.9262\n",
      "Epoch 40/100\n",
      "7/7 - 3s - loss: 9.0180e-04 - accuracy: 1.0000 - prec: 1.0000 - rec: 1.0000 - val_loss: 0.8403 - val_accuracy: 0.9020 - val_prec: 0.8901 - val_rec: 0.9737\n",
      "Epoch 41/100\n",
      "7/7 - 3s - loss: 3.8271e-04 - accuracy: 1.0000 - prec: 1.0000 - rec: 1.0000 - val_loss: 0.8112 - val_accuracy: 0.8431 - val_prec: 0.8636 - val_rec: 0.8904\n",
      "Epoch 42/100\n",
      "7/7 - 2s - loss: 3.1019e-04 - accuracy: 1.0000 - prec: 1.0000 - rec: 1.0000 - val_loss: 0.4748 - val_accuracy: 0.9412 - val_prec: 0.9365 - val_rec: 0.9722\n",
      "Epoch 43/100\n",
      "7/7 - 2s - loss: 8.3979e-04 - accuracy: 1.0000 - prec: 1.0000 - rec: 1.0000 - val_loss: 0.5687 - val_accuracy: 0.9020 - val_prec: 0.8656 - val_rec: 0.9773\n",
      "Epoch 44/100\n",
      "7/7 - 2s - loss: 3.6259e-04 - accuracy: 1.0000 - prec: 1.0000 - rec: 1.0000 - val_loss: 0.9145 - val_accuracy: 0.8627 - val_prec: 0.8439 - val_rec: 0.9262\n",
      "Epoch 45/100\n",
      "7/7 - 2s - loss: 3.4171e-04 - accuracy: 1.0000 - prec: 1.0000 - rec: 1.0000 - val_loss: 0.9291 - val_accuracy: 0.8824 - val_prec: 0.8690 - val_rec: 0.9722\n",
      "Epoch 46/100\n",
      "7/7 - 2s - loss: 1.6314e-04 - accuracy: 1.0000 - prec: 1.0000 - rec: 1.0000 - val_loss: 0.6576 - val_accuracy: 0.8824 - val_prec: 0.9091 - val_rec: 0.9231\n",
      "Epoch 47/100\n",
      "7/7 - 3s - loss: 2.2909e-04 - accuracy: 1.0000 - prec: 1.0000 - rec: 1.0000 - val_loss: 0.6459 - val_accuracy: 0.8627 - val_prec: 0.7933 - val_rec: 0.9600\n",
      "Epoch 48/100\n",
      "7/7 - 2s - loss: 2.7025e-04 - accuracy: 1.0000 - prec: 1.0000 - rec: 1.0000 - val_loss: 0.8288 - val_accuracy: 0.9020 - val_prec: 0.8893 - val_rec: 0.9722\n",
      "Epoch 49/100\n",
      "7/7 - 3s - loss: 1.6592e-04 - accuracy: 1.0000 - prec: 1.0000 - rec: 1.0000 - val_loss: 0.5751 - val_accuracy: 0.9020 - val_prec: 0.9130 - val_rec: 0.9750\n",
      "Epoch 50/100\n",
      "7/7 - 2s - loss: 4.0159e-04 - accuracy: 1.0000 - prec: 1.0000 - rec: 1.0000 - val_loss: 0.7324 - val_accuracy: 0.9216 - val_prec: 0.9091 - val_rec: 0.9262\n",
      "Epoch 51/100\n",
      "7/7 - 3s - loss: 2.6371e-04 - accuracy: 1.0000 - prec: 1.0000 - rec: 1.0000 - val_loss: 0.7367 - val_accuracy: 0.9020 - val_prec: 0.9089 - val_rec: 0.9474\n",
      "Epoch 52/100\n",
      "7/7 - 2s - loss: 1.6545e-04 - accuracy: 1.0000 - prec: 1.0000 - rec: 1.0000 - val_loss: 0.8273 - val_accuracy: 0.9020 - val_prec: 0.9045 - val_rec: 0.9545\n",
      "Epoch 53/100\n",
      "7/7 - 2s - loss: 1.5588e-04 - accuracy: 1.0000 - prec: 1.0000 - rec: 1.0000 - val_loss: 0.7493 - val_accuracy: 0.9020 - val_prec: 0.9306 - val_rec: 0.9057\n",
      "Epoch 54/100\n",
      "7/7 - 2s - loss: 3.9566e-04 - accuracy: 1.0000 - prec: 1.0000 - rec: 1.0000 - val_loss: 0.8197 - val_accuracy: 0.9020 - val_prec: 0.9167 - val_rec: 0.9412\n",
      "Epoch 55/100\n",
      "7/7 - 2s - loss: 3.1193e-04 - accuracy: 1.0000 - prec: 1.0000 - rec: 1.0000 - val_loss: 0.5086 - val_accuracy: 0.9020 - val_prec: 0.8679 - val_rec: 0.9750\n",
      "Epoch 56/100\n",
      "7/7 - 2s - loss: 2.2800e-04 - accuracy: 1.0000 - prec: 1.0000 - rec: 1.0000 - val_loss: 0.9983 - val_accuracy: 0.8431 - val_prec: 0.8224 - val_rec: 0.9338\n",
      "Epoch 57/100\n",
      "7/7 - 2s - loss: 1.6849e-04 - accuracy: 1.0000 - prec: 1.0000 - rec: 1.0000 - val_loss: 0.7123 - val_accuracy: 0.8627 - val_prec: 0.8833 - val_rec: 0.9057\n",
      "Epoch 58/100\n",
      "7/7 - 2s - loss: 2.1040e-04 - accuracy: 1.0000 - prec: 1.0000 - rec: 1.0000 - val_loss: 0.9718 - val_accuracy: 0.9020 - val_prec: 0.8877 - val_rec: 0.9706\n",
      "Epoch 59/100\n",
      "7/7 - 2s - loss: 1.5394e-04 - accuracy: 1.0000 - prec: 1.0000 - rec: 1.0000 - val_loss: 0.8119 - val_accuracy: 0.9020 - val_prec: 0.9250 - val_rec: 0.9338\n",
      "Epoch 60/100\n",
      "7/7 - 2s - loss: 1.0161e-04 - accuracy: 1.0000 - prec: 1.0000 - rec: 1.0000 - val_loss: 0.5397 - val_accuracy: 0.8627 - val_prec: 0.8810 - val_rec: 0.9055\n",
      "Epoch 61/100\n",
      "7/7 - 2s - loss: 1.4623e-04 - accuracy: 1.0000 - prec: 1.0000 - rec: 1.0000 - val_loss: 0.9795 - val_accuracy: 0.9020 - val_prec: 0.8901 - val_rec: 0.9737\n",
      "Epoch 62/100\n",
      "7/7 - 2s - loss: 1.9456e-04 - accuracy: 1.0000 - prec: 1.0000 - rec: 1.0000 - val_loss: 0.9213 - val_accuracy: 0.9216 - val_prec: 0.9524 - val_rec: 0.9295\n",
      "Epoch 63/100\n",
      "7/7 - 2s - loss: 5.8768e-04 - accuracy: 1.0000 - prec: 1.0000 - rec: 1.0000 - val_loss: 0.7701 - val_accuracy: 0.9020 - val_prec: 0.9045 - val_rec: 0.9091\n",
      "Epoch 64/100\n",
      "7/7 - 2s - loss: 7.6713e-04 - accuracy: 1.0000 - prec: 1.0000 - rec: 1.0000 - val_loss: 0.6161 - val_accuracy: 0.9216 - val_prec: 0.9065 - val_rec: 0.9500\n",
      "Epoch 65/100\n",
      "7/7 - 2s - loss: 1.3666e-04 - accuracy: 1.0000 - prec: 1.0000 - rec: 1.0000 - val_loss: 0.9439 - val_accuracy: 0.8431 - val_prec: 0.8182 - val_rec: 0.8762\n",
      "Epoch 66/100\n",
      "7/7 - 2s - loss: 0.0012 - accuracy: 1.0000 - prec: 1.0000 - rec: 1.0000 - val_loss: 0.7520 - val_accuracy: 0.9020 - val_prec: 0.9089 - val_rec: 0.9474\n",
      "Epoch 67/100\n",
      "7/7 - 2s - loss: 3.6781e-04 - accuracy: 1.0000 - prec: 1.0000 - rec: 1.0000 - val_loss: 0.7722 - val_accuracy: 0.9216 - val_prec: 0.9217 - val_rec: 0.9000\n",
      "Epoch 68/100\n",
      "7/7 - 2s - loss: 3.5322e-04 - accuracy: 1.0000 - prec: 1.0000 - rec: 1.0000 - val_loss: 0.9876 - val_accuracy: 0.8824 - val_prec: 0.8759 - val_rec: 0.9474\n",
      "Epoch 69/100\n",
      "7/7 - 2s - loss: 9.2196e-04 - accuracy: 1.0000 - prec: 1.0000 - rec: 1.0000 - val_loss: 0.8594 - val_accuracy: 0.9020 - val_prec: 0.9008 - val_rec: 0.9338\n",
      "Epoch 70/100\n",
      "7/7 - 2s - loss: 4.2557e-04 - accuracy: 1.0000 - prec: 1.0000 - rec: 1.0000 - val_loss: 1.0280 - val_accuracy: 0.8824 - val_prec: 0.8690 - val_rec: 0.9643\n",
      "Epoch 71/100\n",
      "7/7 - 2s - loss: 1.9092e-04 - accuracy: 1.0000 - prec: 1.0000 - rec: 1.0000 - val_loss: 0.7065 - val_accuracy: 0.8824 - val_prec: 0.8318 - val_rec: 1.0000\n",
      "Epoch 72/100\n",
      "7/7 - 2s - loss: 2.7348e-04 - accuracy: 1.0000 - prec: 1.0000 - rec: 1.0000 - val_loss: 1.0098 - val_accuracy: 0.8627 - val_prec: 0.8250 - val_rec: 0.9737\n",
      "Epoch 73/100\n",
      "7/7 - 2s - loss: 7.6615e-05 - accuracy: 1.0000 - prec: 1.0000 - rec: 1.0000 - val_loss: 0.9970 - val_accuracy: 0.8627 - val_prec: 0.8516 - val_rec: 0.9320\n",
      "Epoch 74/100\n",
      "7/7 - 3s - loss: 3.8292e-04 - accuracy: 1.0000 - prec: 1.0000 - rec: 1.0000 - val_loss: 0.7500 - val_accuracy: 0.8824 - val_prec: 0.8841 - val_rec: 0.9024\n",
      "Epoch 75/100\n",
      "7/7 - 3s - loss: 1.9831e-04 - accuracy: 1.0000 - prec: 1.0000 - rec: 1.0000 - val_loss: 0.7584 - val_accuracy: 0.8824 - val_prec: 0.8731 - val_rec: 0.9320\n",
      "Epoch 76/100\n",
      "7/7 - 3s - loss: 2.0455e-04 - accuracy: 1.0000 - prec: 1.0000 - rec: 1.0000 - val_loss: 0.9182 - val_accuracy: 0.9020 - val_prec: 0.9167 - val_rec: 0.9375\n",
      "Epoch 77/100\n",
      "7/7 - 3s - loss: 2.1326e-04 - accuracy: 1.0000 - prec: 1.0000 - rec: 1.0000 - val_loss: 0.8758 - val_accuracy: 0.9216 - val_prec: 0.9107 - val_rec: 0.9583\n",
      "Epoch 78/100\n",
      "7/7 - 3s - loss: 1.2510e-04 - accuracy: 1.0000 - prec: 1.0000 - rec: 1.0000 - val_loss: 0.8599 - val_accuracy: 0.8627 - val_prec: 0.8831 - val_rec: 0.9045\n",
      "Epoch 79/100\n",
      "7/7 - 3s - loss: 2.3147e-04 - accuracy: 1.0000 - prec: 1.0000 - rec: 1.0000 - val_loss: 0.8599 - val_accuracy: 0.8824 - val_prec: 0.8853 - val_rec: 0.9444\n",
      "Epoch 80/100\n",
      "7/7 - 3s - loss: 2.0929e-04 - accuracy: 1.0000 - prec: 1.0000 - rec: 1.0000 - val_loss: 0.7436 - val_accuracy: 0.9216 - val_prec: 0.9117 - val_rec: 0.9722\n",
      "Epoch 81/100\n",
      "7/7 - 3s - loss: 1.2786e-04 - accuracy: 1.0000 - prec: 1.0000 - rec: 1.0000 - val_loss: 0.8616 - val_accuracy: 0.8824 - val_prec: 0.8514 - val_rec: 0.9762\n",
      "Epoch 82/100\n",
      "7/7 - 3s - loss: 9.5347e-05 - accuracy: 1.0000 - prec: 1.0000 - rec: 1.0000 - val_loss: 0.9011 - val_accuracy: 0.8627 - val_prec: 0.9048 - val_rec: 0.9250\n",
      "Epoch 83/100\n",
      "7/7 - 3s - loss: 7.4709e-04 - accuracy: 1.0000 - prec: 1.0000 - rec: 1.0000 - val_loss: 0.9904 - val_accuracy: 0.8824 - val_prec: 0.8514 - val_rec: 0.9762\n",
      "Epoch 84/100\n",
      "7/7 - 3s - loss: 1.0601e-04 - accuracy: 1.0000 - prec: 1.0000 - rec: 1.0000 - val_loss: 0.7829 - val_accuracy: 0.8824 - val_prec: 0.8778 - val_rec: 0.9349\n",
      "Epoch 85/100\n",
      "7/7 - 3s - loss: 4.1626e-04 - accuracy: 1.0000 - prec: 1.0000 - rec: 1.0000 - val_loss: 0.9432 - val_accuracy: 0.9020 - val_prec: 0.8656 - val_rec: 0.9500\n",
      "Epoch 86/100\n",
      "7/7 - 3s - loss: 3.3019e-04 - accuracy: 1.0000 - prec: 1.0000 - rec: 1.0000 - val_loss: 0.9863 - val_accuracy: 0.8627 - val_prec: 0.8818 - val_rec: 0.8841\n",
      "Epoch 87/100\n",
      "7/7 - 3s - loss: 7.1584e-05 - accuracy: 1.0000 - prec: 1.0000 - rec: 1.0000 - val_loss: 0.7335 - val_accuracy: 0.9020 - val_prec: 0.9211 - val_rec: 0.9349\n",
      "Epoch 88/100\n",
      "7/7 - 3s - loss: 2.2855e-04 - accuracy: 1.0000 - prec: 1.0000 - rec: 1.0000 - val_loss: 0.8652 - val_accuracy: 0.8824 - val_prec: 0.9211 - val_rec: 0.9060\n",
      "Epoch 89/100\n",
      "7/7 - 3s - loss: 5.5730e-04 - accuracy: 1.0000 - prec: 1.0000 - rec: 1.0000 - val_loss: 0.8975 - val_accuracy: 0.9020 - val_prec: 0.8968 - val_rec: 0.9320\n",
      "Epoch 90/100\n",
      "7/7 - 3s - loss: 1.2958e-04 - accuracy: 1.0000 - prec: 1.0000 - rec: 1.0000 - val_loss: 0.9884 - val_accuracy: 0.8824 - val_prec: 0.8731 - val_rec: 0.9320\n",
      "Epoch 91/100\n",
      "7/7 - 3s - loss: 2.9628e-04 - accuracy: 1.0000 - prec: 1.0000 - rec: 1.0000 - val_loss: 1.0656 - val_accuracy: 0.9020 - val_prec: 0.8893 - val_rec: 0.9643\n",
      "Epoch 92/100\n",
      "7/7 - 3s - loss: 1.8714e-04 - accuracy: 1.0000 - prec: 1.0000 - rec: 1.0000 - val_loss: 0.6767 - val_accuracy: 0.8824 - val_prec: 0.8759 - val_rec: 0.9338\n",
      "Epoch 93/100\n",
      "7/7 - 3s - loss: 2.2035e-04 - accuracy: 1.0000 - prec: 1.0000 - rec: 1.0000 - val_loss: 0.8999 - val_accuracy: 0.9020 - val_prec: 0.9211 - val_rec: 0.9444\n",
      "Epoch 94/100\n",
      "7/7 - 3s - loss: 1.2645e-04 - accuracy: 1.0000 - prec: 1.0000 - rec: 1.0000 - val_loss: 0.8045 - val_accuracy: 0.8431 - val_prec: 0.8273 - val_rec: 0.9349\n",
      "Epoch 95/100\n",
      "7/7 - 3s - loss: 1.3339e-04 - accuracy: 1.0000 - prec: 1.0000 - rec: 1.0000 - val_loss: 0.8167 - val_accuracy: 0.9216 - val_prec: 0.8864 - val_rec: 0.9500\n",
      "Epoch 96/100\n",
      "7/7 - 3s - loss: 2.4921e-04 - accuracy: 1.0000 - prec: 1.0000 - rec: 1.0000 - val_loss: 0.7514 - val_accuracy: 0.8824 - val_prec: 0.8731 - val_rec: 0.9500\n",
      "Epoch 97/100\n",
      "7/7 - 3s - loss: 1.8260e-04 - accuracy: 1.0000 - prec: 1.0000 - rec: 1.0000 - val_loss: 0.9822 - val_accuracy: 0.8824 - val_prec: 0.8947 - val_rec: 0.9412\n",
      "Epoch 98/100\n",
      "7/7 - 3s - loss: 7.9530e-05 - accuracy: 1.0000 - prec: 1.0000 - rec: 1.0000 - val_loss: 0.9267 - val_accuracy: 0.8824 - val_prec: 0.8865 - val_rec: 0.9474\n",
      "Epoch 99/100\n",
      "7/7 - 2s - loss: 1.8800e-04 - accuracy: 1.0000 - prec: 1.0000 - rec: 1.0000 - val_loss: 0.5813 - val_accuracy: 0.8627 - val_prec: 0.7500 - val_rec: 0.8571\n",
      "Epoch 100/100\n",
      "7/7 - 3s - loss: 5.6941e-05 - accuracy: 1.0000 - prec: 1.0000 - rec: 1.0000 - val_loss: 0.7719 - val_accuracy: 0.9216 - val_prec: 0.9349 - val_rec: 0.9349\n",
      "\n",
      "Stop Training\n",
      "Duration Learning :  5.521178781986237\n",
      "\n",
      "Start Training Model Nadam\n",
      "\n",
      "Epoch 1/100\n",
      "7/7 - 3s - loss: 5.6513e-04 - accuracy: 1.0000 - prec: 1.0000 - rec: 1.0000 - val_loss: 0.6361 - val_accuracy: 0.8824 - val_prec: 0.8690 - val_rec: 0.9722\n",
      "Epoch 2/100\n",
      "7/7 - 2s - loss: 6.6993e-04 - accuracy: 1.0000 - prec: 1.0000 - rec: 1.0000 - val_loss: 1.0840 - val_accuracy: 0.8627 - val_prec: 0.8674 - val_rec: 0.9231\n",
      "Epoch 3/100\n",
      "7/7 - 2s - loss: 8.2915e-04 - accuracy: 1.0000 - prec: 1.0000 - rec: 1.0000 - val_loss: 0.7946 - val_accuracy: 0.8627 - val_prec: 0.8667 - val_rec: 0.9545\n",
      "Epoch 4/100\n",
      "7/7 - 2s - loss: 0.0015 - accuracy: 1.0000 - prec: 1.0000 - rec: 1.0000 - val_loss: 1.0275 - val_accuracy: 0.8431 - val_prec: 0.8913 - val_rec: 0.9045\n",
      "Epoch 5/100\n",
      "7/7 - 2s - loss: 0.0011 - accuracy: 1.0000 - prec: 1.0000 - rec: 1.0000 - val_loss: 0.9756 - val_accuracy: 0.8431 - val_prec: 0.8590 - val_rec: 0.9021\n",
      "Epoch 6/100\n",
      "7/7 - 2s - loss: 5.2077e-04 - accuracy: 1.0000 - prec: 1.0000 - rec: 1.0000 - val_loss: 1.1067 - val_accuracy: 0.8431 - val_prec: 0.8409 - val_rec: 0.8750\n",
      "Epoch 7/100\n",
      "7/7 - 3s - loss: 0.0012 - accuracy: 1.0000 - prec: 1.0000 - rec: 1.0000 - val_loss: 0.7940 - val_accuracy: 0.8627 - val_prec: 0.8398 - val_rec: 0.9348\n",
      "Epoch 8/100\n",
      "7/7 - 3s - loss: 7.9485e-04 - accuracy: 1.0000 - prec: 1.0000 - rec: 1.0000 - val_loss: 0.9136 - val_accuracy: 0.8627 - val_prec: 0.8516 - val_rec: 0.9320\n",
      "Epoch 9/100\n",
      "7/7 - 3s - loss: 6.8816e-04 - accuracy: 1.0000 - prec: 1.0000 - rec: 1.0000 - val_loss: 0.8794 - val_accuracy: 0.8431 - val_prec: 0.8750 - val_rec: 0.9167\n",
      "Epoch 10/100\n",
      "7/7 - 3s - loss: 7.0892e-04 - accuracy: 1.0000 - prec: 1.0000 - rec: 1.0000 - val_loss: 0.6751 - val_accuracy: 0.8824 - val_prec: 0.8596 - val_rec: 0.9524\n",
      "Epoch 11/100\n",
      "7/7 - 3s - loss: 0.0013 - accuracy: 1.0000 - prec: 1.0000 - rec: 1.0000 - val_loss: 0.9039 - val_accuracy: 0.8235 - val_prec: 0.8417 - val_rec: 0.8795\n",
      "Epoch 12/100\n",
      "7/7 - 3s - loss: 7.9230e-04 - accuracy: 1.0000 - prec: 1.0000 - rec: 1.0000 - val_loss: 0.8231 - val_accuracy: 0.8627 - val_prec: 0.8545 - val_rec: 0.8762\n",
      "Epoch 13/100\n",
      "7/7 - 3s - loss: 0.0918 - accuracy: 0.9653 - prec: 0.9786 - rec: 0.9717 - val_loss: 1.4066 - val_accuracy: 0.8039 - val_prec: 0.7390 - val_rec: 1.0000\n",
      "Epoch 14/100\n",
      "7/7 - 3s - loss: 0.3458 - accuracy: 0.8960 - prec: 0.9069 - rec: 0.9422 - val_loss: 0.6088 - val_accuracy: 0.8431 - val_prec: 0.9444 - val_rec: 0.7636\n",
      "Epoch 15/100\n",
      "7/7 - 3s - loss: 0.0727 - accuracy: 0.9752 - prec: 0.9864 - rec: 0.9750 - val_loss: 0.6529 - val_accuracy: 0.8235 - val_prec: 0.8593 - val_rec: 0.8568\n",
      "Epoch 16/100\n",
      "7/7 - 3s - loss: 0.0504 - accuracy: 0.9802 - prec: 0.9799 - rec: 0.9935 - val_loss: 0.5781 - val_accuracy: 0.8235 - val_prec: 0.8563 - val_rec: 0.8782\n",
      "Epoch 17/100\n",
      "7/7 - 3s - loss: 0.0273 - accuracy: 0.9950 - prec: 1.0000 - rec: 0.9916 - val_loss: 0.7687 - val_accuracy: 0.8235 - val_prec: 0.8320 - val_rec: 0.9048\n",
      "Epoch 18/100\n",
      "7/7 - 3s - loss: 0.0168 - accuracy: 1.0000 - prec: 1.0000 - rec: 1.0000 - val_loss: 0.6235 - val_accuracy: 0.8627 - val_prec: 0.8333 - val_rec: 0.8762\n",
      "Epoch 19/100\n",
      "7/7 - 3s - loss: 0.0049 - accuracy: 1.0000 - prec: 1.0000 - rec: 1.0000 - val_loss: 0.5559 - val_accuracy: 0.8431 - val_prec: 0.8452 - val_rec: 0.8846\n",
      "Epoch 20/100\n",
      "7/7 - 3s - loss: 0.0050 - accuracy: 1.0000 - prec: 1.0000 - rec: 1.0000 - val_loss: 0.7090 - val_accuracy: 0.8431 - val_prec: 0.8590 - val_rec: 0.9167\n",
      "Epoch 21/100\n",
      "7/7 - 3s - loss: 0.0059 - accuracy: 1.0000 - prec: 1.0000 - rec: 1.0000 - val_loss: 0.9307 - val_accuracy: 0.8627 - val_prec: 0.8704 - val_rec: 0.9057\n",
      "Epoch 22/100\n",
      "7/7 - 3s - loss: 0.0057 - accuracy: 1.0000 - prec: 1.0000 - rec: 1.0000 - val_loss: 0.7671 - val_accuracy: 0.8627 - val_prec: 0.8831 - val_rec: 0.9045\n",
      "Epoch 23/100\n",
      "7/7 - 2s - loss: 0.0052 - accuracy: 1.0000 - prec: 1.0000 - rec: 1.0000 - val_loss: 0.7301 - val_accuracy: 0.8627 - val_prec: 0.8644 - val_rec: 0.9000\n",
      "Epoch 24/100\n",
      "7/7 - 3s - loss: 0.0021 - accuracy: 1.0000 - prec: 1.0000 - rec: 1.0000 - val_loss: 0.7716 - val_accuracy: 0.8431 - val_prec: 0.8763 - val_rec: 0.8524\n",
      "Epoch 25/100\n",
      "7/7 - 3s - loss: 0.0161 - accuracy: 0.9901 - prec: 0.9643 - rec: 0.9935 - val_loss: 0.9500 - val_accuracy: 0.8431 - val_prec: 0.8511 - val_rec: 0.9062\n",
      "Epoch 26/100\n",
      "7/7 - 2s - loss: 0.0099 - accuracy: 1.0000 - prec: 1.0000 - rec: 1.0000 - val_loss: 0.8458 - val_accuracy: 0.8627 - val_prec: 0.8223 - val_rec: 0.9545\n",
      "Epoch 27/100\n",
      "7/7 - 3s - loss: 0.0077 - accuracy: 1.0000 - prec: 1.0000 - rec: 1.0000 - val_loss: 0.7719 - val_accuracy: 0.8235 - val_prec: 0.8591 - val_rec: 0.8591\n",
      "Epoch 28/100\n",
      "7/7 - 3s - loss: 0.0023 - accuracy: 1.0000 - prec: 1.0000 - rec: 1.0000 - val_loss: 0.9145 - val_accuracy: 0.8824 - val_prec: 0.8869 - val_rec: 0.9320\n",
      "Epoch 29/100\n",
      "7/7 - 3s - loss: 0.0094 - accuracy: 0.9950 - prec: 1.0000 - rec: 0.9932 - val_loss: 0.9412 - val_accuracy: 0.8627 - val_prec: 0.8674 - val_rec: 0.9320\n",
      "Epoch 30/100\n",
      "7/7 - 3s - loss: 0.0068 - accuracy: 1.0000 - prec: 1.0000 - rec: 1.0000 - val_loss: 0.9551 - val_accuracy: 0.8235 - val_prec: 0.8583 - val_rec: 0.8675\n",
      "Epoch 31/100\n",
      "7/7 - 3s - loss: 0.0126 - accuracy: 0.9950 - prec: 0.9925 - rec: 1.0000 - val_loss: 0.8196 - val_accuracy: 0.8627 - val_prec: 0.8295 - val_rec: 0.9262\n",
      "Epoch 32/100\n",
      "7/7 - 2s - loss: 0.1120 - accuracy: 0.9554 - prec: 0.9571 - rec: 0.9619 - val_loss: 1.2268 - val_accuracy: 0.8627 - val_prec: 0.8095 - val_rec: 1.0000\n",
      "Epoch 33/100\n",
      "7/7 - 3s - loss: 0.2209 - accuracy: 0.9356 - prec: 0.9463 - rec: 0.9646 - val_loss: 0.6692 - val_accuracy: 0.7647 - val_prec: 0.8611 - val_rec: 0.7752\n",
      "Epoch 34/100\n",
      "7/7 - 3s - loss: 0.3464 - accuracy: 0.9257 - prec: 0.9356 - rec: 0.9520 - val_loss: 0.4680 - val_accuracy: 0.8235 - val_prec: 0.8756 - val_rec: 0.8545\n",
      "Epoch 35/100\n",
      "7/7 - 3s - loss: 0.2028 - accuracy: 0.9158 - prec: 0.9611 - rec: 0.9149 - val_loss: 0.5104 - val_accuracy: 0.8431 - val_prec: 0.8322 - val_rec: 0.9320\n",
      "Epoch 36/100\n",
      "7/7 - 3s - loss: 0.0740 - accuracy: 0.9901 - prec: 0.9929 - rec: 0.9929 - val_loss: 0.5085 - val_accuracy: 0.8431 - val_prec: 0.8630 - val_rec: 0.8841\n",
      "Epoch 37/100\n",
      "7/7 - 3s - loss: 0.0633 - accuracy: 0.9802 - prec: 0.9796 - rec: 0.9784 - val_loss: 0.7166 - val_accuracy: 0.8431 - val_prec: 0.8098 - val_rec: 0.9545\n",
      "Epoch 38/100\n",
      "7/7 - 3s - loss: 0.0393 - accuracy: 0.9851 - prec: 0.9857 - rec: 0.9929 - val_loss: 0.4923 - val_accuracy: 0.8235 - val_prec: 0.8237 - val_rec: 0.8262\n",
      "Epoch 39/100\n",
      "7/7 - 3s - loss: 0.0203 - accuracy: 1.0000 - prec: 1.0000 - rec: 1.0000 - val_loss: 0.5357 - val_accuracy: 0.8824 - val_prec: 0.8667 - val_rec: 0.9667\n",
      "Epoch 40/100\n",
      "7/7 - 3s - loss: 0.0217 - accuracy: 0.9901 - prec: 0.9846 - rec: 1.0000 - val_loss: 0.5923 - val_accuracy: 0.8235 - val_prec: 0.8591 - val_rec: 0.8487\n",
      "Epoch 41/100\n",
      "7/7 - 3s - loss: 0.0235 - accuracy: 0.9901 - prec: 0.9929 - rec: 0.9929 - val_loss: 0.4553 - val_accuracy: 0.8627 - val_prec: 0.9000 - val_rec: 0.9060\n",
      "Epoch 42/100\n",
      "7/7 - 3s - loss: 0.0239 - accuracy: 0.9901 - prec: 0.9929 - rec: 0.9921 - val_loss: 0.6953 - val_accuracy: 0.8627 - val_prec: 0.8321 - val_rec: 0.9524\n",
      "Epoch 43/100\n",
      "7/7 - 3s - loss: 0.0149 - accuracy: 1.0000 - prec: 1.0000 - rec: 1.0000 - val_loss: 0.6024 - val_accuracy: 0.8824 - val_prec: 0.8333 - val_rec: 0.9545\n",
      "Epoch 44/100\n",
      "7/7 - 3s - loss: 0.0190 - accuracy: 0.9901 - prec: 0.9864 - rec: 1.0000 - val_loss: 0.9046 - val_accuracy: 0.8039 - val_prec: 0.8397 - val_rec: 0.8354\n",
      "Epoch 45/100\n",
      "7/7 - 3s - loss: 0.0064 - accuracy: 1.0000 - prec: 1.0000 - rec: 1.0000 - val_loss: 0.6963 - val_accuracy: 0.8824 - val_prec: 0.8759 - val_rec: 0.9474\n",
      "Epoch 46/100\n",
      "7/7 - 3s - loss: 0.0039 - accuracy: 1.0000 - prec: 1.0000 - rec: 1.0000 - val_loss: 0.7396 - val_accuracy: 0.8627 - val_prec: 0.8202 - val_rec: 0.9000\n",
      "Epoch 47/100\n",
      "7/7 - 3s - loss: 0.0041 - accuracy: 1.0000 - prec: 1.0000 - rec: 1.0000 - val_loss: 0.6849 - val_accuracy: 0.8235 - val_prec: 0.8318 - val_rec: 0.8386\n",
      "Epoch 48/100\n",
      "7/7 - 3s - loss: 0.0040 - accuracy: 1.0000 - prec: 1.0000 - rec: 1.0000 - val_loss: 0.9527 - val_accuracy: 0.8431 - val_prec: 0.8556 - val_rec: 0.9118\n",
      "Epoch 49/100\n",
      "7/7 - 3s - loss: 0.0048 - accuracy: 1.0000 - prec: 1.0000 - rec: 1.0000 - val_loss: 0.7865 - val_accuracy: 0.8431 - val_prec: 0.8675 - val_rec: 0.9000\n",
      "Epoch 50/100\n",
      "7/7 - 3s - loss: 0.0023 - accuracy: 1.0000 - prec: 1.0000 - rec: 1.0000 - val_loss: 0.8652 - val_accuracy: 0.8431 - val_prec: 0.8493 - val_rec: 0.9118\n",
      "Epoch 51/100\n",
      "7/7 - 3s - loss: 0.0191 - accuracy: 0.9950 - prec: 1.0000 - rec: 0.9925 - val_loss: 0.9878 - val_accuracy: 0.8431 - val_prec: 0.8333 - val_rec: 0.9474\n",
      "Epoch 52/100\n",
      "7/7 - 3s - loss: 0.0040 - accuracy: 1.0000 - prec: 1.0000 - rec: 1.0000 - val_loss: 0.9520 - val_accuracy: 0.8235 - val_prec: 0.8258 - val_rec: 0.9045\n",
      "Epoch 53/100\n",
      "7/7 - 3s - loss: 0.0044 - accuracy: 1.0000 - prec: 1.0000 - rec: 1.0000 - val_loss: 0.8853 - val_accuracy: 0.8627 - val_prec: 0.8818 - val_rec: 0.9318\n",
      "Epoch 54/100\n",
      "7/7 - 3s - loss: 0.0039 - accuracy: 1.0000 - prec: 1.0000 - rec: 1.0000 - val_loss: 1.1505 - val_accuracy: 0.8431 - val_prec: 0.8409 - val_rec: 0.8841\n",
      "Epoch 55/100\n",
      "7/7 - 3s - loss: 0.0032 - accuracy: 1.0000 - prec: 1.0000 - rec: 1.0000 - val_loss: 0.7957 - val_accuracy: 0.8431 - val_prec: 0.8452 - val_rec: 0.8904\n",
      "Epoch 56/100\n",
      "7/7 - 3s - loss: 0.0020 - accuracy: 1.0000 - prec: 1.0000 - rec: 1.0000 - val_loss: 0.9075 - val_accuracy: 0.8235 - val_prec: 0.8320 - val_rec: 0.9048\n",
      "Epoch 57/100\n",
      "7/7 - 3s - loss: 0.0026 - accuracy: 1.0000 - prec: 1.0000 - rec: 1.0000 - val_loss: 0.8222 - val_accuracy: 0.8627 - val_prec: 0.8439 - val_rec: 0.9262\n",
      "Epoch 58/100\n",
      "7/7 - 3s - loss: 0.0044 - accuracy: 1.0000 - prec: 1.0000 - rec: 1.0000 - val_loss: 0.8887 - val_accuracy: 0.8824 - val_prec: 0.8586 - val_rec: 0.9706\n",
      "Epoch 59/100\n",
      "7/7 - 3s - loss: 0.0031 - accuracy: 1.0000 - prec: 1.0000 - rec: 1.0000 - val_loss: 1.0631 - val_accuracy: 0.8235 - val_prec: 0.8250 - val_rec: 0.8786\n",
      "Epoch 60/100\n",
      "7/7 - 3s - loss: 0.0019 - accuracy: 1.0000 - prec: 1.0000 - rec: 1.0000 - val_loss: 0.9252 - val_accuracy: 0.8039 - val_prec: 0.8800 - val_rec: 0.8524\n",
      "Epoch 61/100\n",
      "7/7 - 3s - loss: 0.0013 - accuracy: 1.0000 - prec: 1.0000 - rec: 1.0000 - val_loss: 0.9427 - val_accuracy: 0.8235 - val_prec: 0.8281 - val_rec: 0.9055\n",
      "Epoch 62/100\n",
      "7/7 - 3s - loss: 8.0149e-04 - accuracy: 1.0000 - prec: 1.0000 - rec: 1.0000 - val_loss: 0.7774 - val_accuracy: 0.8431 - val_prec: 0.8684 - val_rec: 0.9042\n",
      "Epoch 63/100\n",
      "7/7 - 3s - loss: 0.0018 - accuracy: 1.0000 - prec: 1.0000 - rec: 1.0000 - val_loss: 0.9636 - val_accuracy: 0.8235 - val_prec: 0.8425 - val_rec: 0.9060\n",
      "Epoch 64/100\n",
      "7/7 - 3s - loss: 7.2257e-04 - accuracy: 1.0000 - prec: 1.0000 - rec: 1.0000 - val_loss: 0.9512 - val_accuracy: 0.8627 - val_prec: 0.7964 - val_rec: 0.9583\n",
      "Epoch 65/100\n",
      "7/7 - 3s - loss: 5.8942e-04 - accuracy: 1.0000 - prec: 1.0000 - rec: 1.0000 - val_loss: 1.2445 - val_accuracy: 0.8235 - val_prec: 0.8458 - val_rec: 0.9045\n",
      "Epoch 66/100\n",
      "7/7 - 3s - loss: 0.0016 - accuracy: 1.0000 - prec: 1.0000 - rec: 1.0000 - val_loss: 0.9136 - val_accuracy: 0.8431 - val_prec: 0.8636 - val_rec: 0.8904\n",
      "Epoch 67/100\n",
      "7/7 - 3s - loss: 4.0744e-04 - accuracy: 1.0000 - prec: 1.0000 - rec: 1.0000 - val_loss: 1.2093 - val_accuracy: 0.8235 - val_prec: 0.8258 - val_rec: 0.8904\n",
      "Epoch 68/100\n",
      "7/7 - 3s - loss: 7.1055e-04 - accuracy: 1.0000 - prec: 1.0000 - rec: 1.0000 - val_loss: 1.0578 - val_accuracy: 0.8431 - val_prec: 0.8273 - val_rec: 0.9444\n",
      "Epoch 69/100\n",
      "7/7 - 3s - loss: 0.0011 - accuracy: 1.0000 - prec: 1.0000 - rec: 1.0000 - val_loss: 0.9686 - val_accuracy: 0.8431 - val_prec: 0.8214 - val_rec: 0.9024\n",
      "Epoch 70/100\n",
      "7/7 - 3s - loss: 6.5981e-04 - accuracy: 1.0000 - prec: 1.0000 - rec: 1.0000 - val_loss: 0.7337 - val_accuracy: 0.8431 - val_prec: 0.8409 - val_rec: 0.9318\n",
      "Epoch 71/100\n",
      "7/7 - 3s - loss: 6.5824e-04 - accuracy: 1.0000 - prec: 1.0000 - rec: 1.0000 - val_loss: 0.8614 - val_accuracy: 0.8431 - val_prec: 0.8212 - val_rec: 0.9024\n",
      "Epoch 72/100\n",
      "7/7 - 3s - loss: 4.7697e-04 - accuracy: 1.0000 - prec: 1.0000 - rec: 1.0000 - val_loss: 0.8018 - val_accuracy: 0.8627 - val_prec: 0.8663 - val_rec: 0.9474\n",
      "Epoch 73/100\n",
      "7/7 - 3s - loss: 5.9020e-04 - accuracy: 1.0000 - prec: 1.0000 - rec: 1.0000 - val_loss: 0.7976 - val_accuracy: 0.8431 - val_prec: 0.8481 - val_rec: 0.9250\n",
      "Epoch 74/100\n",
      "7/7 - 3s - loss: 3.2345e-04 - accuracy: 1.0000 - prec: 1.0000 - rec: 1.0000 - val_loss: 1.0183 - val_accuracy: 0.8431 - val_prec: 0.8452 - val_rec: 0.9286\n",
      "Epoch 75/100\n",
      "7/7 - 2s - loss: 4.2574e-04 - accuracy: 1.0000 - prec: 1.0000 - rec: 1.0000 - val_loss: 1.0724 - val_accuracy: 0.8235 - val_prec: 0.8591 - val_rec: 0.8786\n",
      "Epoch 76/100\n",
      "7/7 - 3s - loss: 3.2974e-04 - accuracy: 1.0000 - prec: 1.0000 - rec: 1.0000 - val_loss: 0.9655 - val_accuracy: 0.8431 - val_prec: 0.8958 - val_rec: 0.8841\n",
      "Epoch 77/100\n",
      "7/7 - 3s - loss: 0.0025 - accuracy: 1.0000 - prec: 1.0000 - rec: 1.0000 - val_loss: 0.9752 - val_accuracy: 0.8235 - val_prec: 0.8417 - val_rec: 0.8568\n",
      "Epoch 78/100\n",
      "7/7 - 3s - loss: 0.0016 - accuracy: 1.0000 - prec: 1.0000 - rec: 1.0000 - val_loss: 0.8535 - val_accuracy: 0.8824 - val_prec: 0.8865 - val_rec: 0.9474\n",
      "Epoch 79/100\n",
      "7/7 - 3s - loss: 4.4728e-04 - accuracy: 1.0000 - prec: 1.0000 - rec: 1.0000 - val_loss: 1.0814 - val_accuracy: 0.8431 - val_prec: 0.8346 - val_rec: 0.8846\n",
      "Epoch 80/100\n",
      "7/7 - 3s - loss: 5.7985e-04 - accuracy: 1.0000 - prec: 1.0000 - rec: 1.0000 - val_loss: 1.0281 - val_accuracy: 0.8431 - val_prec: 0.8452 - val_rec: 0.9286\n",
      "Epoch 81/100\n",
      "7/7 - 3s - loss: 5.3201e-04 - accuracy: 1.0000 - prec: 1.0000 - rec: 1.0000 - val_loss: 1.1569 - val_accuracy: 0.8824 - val_prec: 0.8848 - val_rec: 0.9091\n",
      "Epoch 82/100\n",
      "7/7 - 3s - loss: 3.6377e-04 - accuracy: 1.0000 - prec: 1.0000 - rec: 1.0000 - val_loss: 1.1146 - val_accuracy: 0.8235 - val_prec: 0.8417 - val_rec: 0.9048\n",
      "Epoch 83/100\n",
      "7/7 - 3s - loss: 3.3195e-04 - accuracy: 1.0000 - prec: 1.0000 - rec: 1.0000 - val_loss: 1.4188 - val_accuracy: 0.8431 - val_prec: 0.8556 - val_rec: 0.9042\n",
      "Epoch 84/100\n",
      "7/7 - 3s - loss: 3.3739e-04 - accuracy: 1.0000 - prec: 1.0000 - rec: 1.0000 - val_loss: 1.1138 - val_accuracy: 0.8235 - val_prec: 0.8089 - val_rec: 0.8500\n",
      "Epoch 85/100\n",
      "7/7 - 2s - loss: 2.6764e-04 - accuracy: 1.0000 - prec: 1.0000 - rec: 1.0000 - val_loss: 0.8166 - val_accuracy: 0.8824 - val_prec: 0.8848 - val_rec: 0.9091\n",
      "Epoch 86/100\n",
      "7/7 - 2s - loss: 5.6051e-04 - accuracy: 1.0000 - prec: 1.0000 - rec: 1.0000 - val_loss: 1.3159 - val_accuracy: 0.8235 - val_prec: 0.8458 - val_rec: 0.8846\n",
      "Epoch 87/100\n",
      "7/7 - 3s - loss: 3.5228e-04 - accuracy: 1.0000 - prec: 1.0000 - rec: 1.0000 - val_loss: 0.9582 - val_accuracy: 0.8627 - val_prec: 0.8485 - val_rec: 0.9295\n",
      "Epoch 88/100\n",
      "7/7 - 3s - loss: 6.0717e-04 - accuracy: 1.0000 - prec: 1.0000 - rec: 1.0000 - val_loss: 0.8292 - val_accuracy: 0.8235 - val_prec: 0.7917 - val_rec: 0.9545\n",
      "Epoch 89/100\n",
      "7/7 - 3s - loss: 7.0379e-04 - accuracy: 1.0000 - prec: 1.0000 - rec: 1.0000 - val_loss: 1.2282 - val_accuracy: 0.8235 - val_prec: 0.8068 - val_rec: 0.9024\n",
      "Epoch 90/100\n",
      "7/7 - 3s - loss: 3.2115e-04 - accuracy: 1.0000 - prec: 1.0000 - rec: 1.0000 - val_loss: 0.8857 - val_accuracy: 0.8431 - val_prec: 0.8297 - val_rec: 0.9167\n",
      "Epoch 91/100\n",
      "7/7 - 2s - loss: 3.7923e-04 - accuracy: 1.0000 - prec: 1.0000 - rec: 1.0000 - val_loss: 1.1050 - val_accuracy: 0.8431 - val_prec: 0.8636 - val_rec: 0.9286\n",
      "Epoch 92/100\n",
      "7/7 - 2s - loss: 1.7096e-04 - accuracy: 1.0000 - prec: 1.0000 - rec: 1.0000 - val_loss: 0.9036 - val_accuracy: 0.8431 - val_prec: 0.8402 - val_rec: 0.9250\n",
      "Epoch 93/100\n",
      "7/7 - 2s - loss: 2.4547e-04 - accuracy: 1.0000 - prec: 1.0000 - rec: 1.0000 - val_loss: 1.0645 - val_accuracy: 0.8431 - val_prec: 0.8575 - val_rec: 0.8500\n",
      "Epoch 94/100\n",
      "7/7 - 3s - loss: 0.0017 - accuracy: 1.0000 - prec: 1.0000 - rec: 1.0000 - val_loss: 1.0733 - val_accuracy: 0.8039 - val_prec: 0.8130 - val_rec: 0.8763\n",
      "Epoch 95/100\n",
      "7/7 - 3s - loss: 0.0011 - accuracy: 1.0000 - prec: 1.0000 - rec: 1.0000 - val_loss: 0.8499 - val_accuracy: 0.8431 - val_prec: 0.8346 - val_rec: 0.9045\n",
      "Epoch 96/100\n",
      "7/7 - 2s - loss: 5.4112e-04 - accuracy: 1.0000 - prec: 1.0000 - rec: 1.0000 - val_loss: 0.9332 - val_accuracy: 0.8431 - val_prec: 0.8500 - val_rec: 0.9055\n",
      "Epoch 97/100\n",
      "7/7 - 2s - loss: 2.1696e-04 - accuracy: 1.0000 - prec: 1.0000 - rec: 1.0000 - val_loss: 0.9597 - val_accuracy: 0.8627 - val_prec: 0.8818 - val_rec: 0.9318\n",
      "Epoch 98/100\n",
      "7/7 - 3s - loss: 2.6765e-04 - accuracy: 1.0000 - prec: 1.0000 - rec: 1.0000 - val_loss: 1.1510 - val_accuracy: 0.8235 - val_prec: 0.8441 - val_rec: 0.9000\n",
      "Epoch 99/100\n",
      "7/7 - 2s - loss: 2.0853e-04 - accuracy: 1.0000 - prec: 1.0000 - rec: 1.0000 - val_loss: 0.8380 - val_accuracy: 0.8039 - val_prec: 0.8036 - val_rec: 0.8591\n",
      "Epoch 100/100\n",
      "7/7 - 2s - loss: 3.5554e-04 - accuracy: 1.0000 - prec: 1.0000 - rec: 1.0000 - val_loss: 0.8669 - val_accuracy: 0.8627 - val_prec: 0.8730 - val_rec: 0.9060\n",
      "\n",
      "Stop Training\n",
      "Duration Learning :  5.828399888674418\n"
     ]
    }
   ],
   "source": [
    "#Model Adam\n",
    "print(\"\\nStart Training Model Adam\\n\")\n",
    "start_time = time.time()\n",
    "HistoryAdam = ModelAdam.fit(\n",
    "    train_generator,\n",
    "    epochs = 100,\n",
    "    validation_data = validation_generator,\n",
    "    verbose = 2\n",
    ")\n",
    "print(\"\\nStop Training\")\n",
    "time_adam = ((time.time() - start_time) /60)\n",
    "print(\"Duration Learning : \", time_adam)\n",
    "\n",
    "#Model Nadam\n",
    "print(\"\\nStart Training Model Nadam\\n\")\n",
    "start_time = time.time()\n",
    "HistoryNadam = ModelNadam.fit(\n",
    "    train_generator,\n",
    "    epochs = 100,\n",
    "    validation_data = validation_generator,\n",
    "    verbose = 2\n",
    ")\n",
    "print(\"\\nStop Training\")\n",
    "time_nadam = ((time.time() - start_time) /60)\n",
    "print(\"Duration Learning : \", time_nadam)"
   ]
  },
  {
   "cell_type": "markdown",
   "metadata": {
    "id": "lBYBJdK4sREK"
   },
   "source": [
    "# **Visualization Model**"
   ]
  },
  {
   "cell_type": "code",
   "execution_count": null,
   "metadata": {
    "colab": {
     "base_uri": "https://localhost:8080/",
     "height": 238
    },
    "executionInfo": {
     "elapsed": 474,
     "status": "error",
     "timestamp": 1636710592829,
     "user": {
      "displayName": "181_151 Erik Fadliansyah",
      "photoUrl": "https://lh3.googleusercontent.com/a-/AOh14GgAzsPHfP8kqNls90jIbdRENlQHBYOeiMoG0QD1zA=s64",
      "userId": "18026540475064999388"
     },
     "user_tz": -420
    },
    "id": "kswHJgxpsQe1",
    "outputId": "7c6fa1dc-9d37-43b4-c4e7-53c9e92b23ab"
   },
   "outputs": [
    {
     "ename": "NameError",
     "evalue": "ignored",
     "output_type": "error",
     "traceback": [
      "\u001b[0;31m---------------------------------------------------------------------------\u001b[0m",
      "\u001b[0;31mNameError\u001b[0m                                 Traceback (most recent call last)",
      "\u001b[0;32m<ipython-input-1-648b4062869e>\u001b[0m in \u001b[0;36m<module>\u001b[0;34m()\u001b[0m\n\u001b[1;32m      3\u001b[0m \u001b[0;34m\u001b[0m\u001b[0m\n\u001b[1;32m      4\u001b[0m \u001b[0;31m#Adam\u001b[0m\u001b[0;34m\u001b[0m\u001b[0;34m\u001b[0m\u001b[0;34m\u001b[0m\u001b[0m\n\u001b[0;32m----> 5\u001b[0;31m \u001b[0madam_acc\u001b[0m \u001b[0;34m=\u001b[0m \u001b[0mHistoryAdam\u001b[0m\u001b[0;34m.\u001b[0m\u001b[0mhistory\u001b[0m\u001b[0;34m[\u001b[0m\u001b[0;34m'accuracy'\u001b[0m\u001b[0;34m]\u001b[0m \u001b[0;31m#accuracy\u001b[0m\u001b[0;34m\u001b[0m\u001b[0;34m\u001b[0m\u001b[0m\n\u001b[0m\u001b[1;32m      6\u001b[0m \u001b[0madam_val_acc\u001b[0m \u001b[0;34m=\u001b[0m \u001b[0mHistoryAdam\u001b[0m\u001b[0;34m.\u001b[0m\u001b[0mhistory\u001b[0m\u001b[0;34m[\u001b[0m\u001b[0;34m'val_accuracy'\u001b[0m\u001b[0;34m]\u001b[0m\u001b[0;34m\u001b[0m\u001b[0;34m\u001b[0m\u001b[0m\n\u001b[1;32m      7\u001b[0m \u001b[0madam_loss\u001b[0m \u001b[0;34m=\u001b[0m \u001b[0mHistoryAdam\u001b[0m\u001b[0;34m.\u001b[0m\u001b[0mhistory\u001b[0m\u001b[0;34m[\u001b[0m\u001b[0;34m'loss'\u001b[0m\u001b[0;34m]\u001b[0m \u001b[0;31m#loss\u001b[0m\u001b[0;34m\u001b[0m\u001b[0;34m\u001b[0m\u001b[0m\n",
      "\u001b[0;31mNameError\u001b[0m: name 'HistoryAdam' is not defined"
     ]
    }
   ],
   "source": [
    "#Visualisasi Hasil Data Training\n",
    "new_colors = ['#1f77b4', '#ff7f0e', '#2ca02c', '#d62728','#9467bd', '#8c564b', '#e377c2', '#7f7f7f','#bcbd22', '#17becf']\n",
    "\n",
    "#Adam\n",
    "adam_acc = HistoryAdam.history['accuracy'] #accuracy\n",
    "adam_val_acc = HistoryAdam.history['val_accuracy']\n",
    "adam_loss = HistoryAdam.history['loss'] #loss\n",
    "adam_val_loss = HistoryAdam.history['val_loss']\n",
    "adam_prec = HistoryAdam.history['prec'] #precission\n",
    "adam_val_prec = HistoryAdam.history['val_prec']\n",
    "adam_rec = HistoryAdam.history['rec'] #recall\n",
    "adam_val_rec= HistoryAdam.history['val_rec']\n",
    "\n",
    "#Nadam\n",
    "nadam_acc = HistoryNadam.history['accuracy'] #accuracy\n",
    "nadam_val_acc = HistoryNadam.history['val_accuracy']\n",
    "nadam_loss = HistoryNadam.history['loss'] #loss\n",
    "nadam_val_loss = HistoryNadam.history['val_loss']\n",
    "nadam_prec = HistoryNadam.history['prec'] #precission\n",
    "nadam_val_prec = HistoryNadam.history['val_prec']\n",
    "nadam_rec = HistoryNadam.history['rec'] #recall\n",
    "nadam_val_rec= HistoryNadam.history['val_rec']\n",
    "\n",
    "#Iterasi\n",
    "iterasi = list(range(1,51)) #itersi epoch+1\n",
    "\n",
    "#Visualisasi Akurasi Model\n",
    "plt.plot(iterasi, adam_acc, label='Adam', color=new_colors[0], linewidth=2)\n",
    "plt.plot(iterasi, adam_val_acc, label='Val_Adam', color=new_colors[1], linewidth=2)\n",
    "\n",
    "plt.plot(iterasi, nadam_acc, label='Nadam', color=new_colors[2], linewidth=2)\n",
    "plt.plot(iterasi, nadam_val_acc, label='Val_Nadam', color=new_colors[3], linewidth=2)\n",
    "\n",
    "plt.title(\"Model Accuracy Adam VS Nadam\")\n",
    "plt.ylabel(\"Accuracy\")\n",
    "plt.xlabel(\"Epoch\")\n",
    "plt.legend(loc='center left', bbox_to_anchor=(1, 0.5))\n",
    "plt.show()\n",
    "\n",
    "#Visualisasi Loss Model\n",
    "plt.plot(iterasi, adam_loss, label='Adam', color=new_colors[0], linewidth=2)\n",
    "plt.plot(iterasi, adam_val_loss, label='Val_Adam', color=new_colors[1], linewidth=2)\n",
    "plt.plot(iterasi, nadam_loss, label='Nadam', color=new_colors[2], linewidth=2)\n",
    "plt.plot(iterasi, nadam_val_loss, label='Val_Nadam', color=new_colors[3], linewidth=2)\n",
    "plt.title(\"Model Loss Adam VS Nadam\")\n",
    "plt.ylabel(\"Loss\")\n",
    "plt.xlabel(\"Epoch\")\n",
    "plt.legend(loc='center left', bbox_to_anchor=(1, 0.5))\n",
    "plt.show()\n",
    "\n",
    "#Visualisasi Precission Model\n",
    "plt.plot(iterasi, adam_prec, label='Adam', color=new_colors[0], linewidth=2)\n",
    "plt.plot(iterasi, adam_val_prec, label='Val_Adam', color=new_colors[1], linewidth=2)\n",
    "plt.plot(iterasi, nadam_prec, label='Nadam', color=new_colors[2], linewidth=2)\n",
    "plt.plot(iterasi, nadam_val_prec, label='Val_Nadam', color=new_colors[3], linewidth=2)\n",
    "plt.title(\"Model Precission Adam VS Nadam\")\n",
    "plt.ylabel(\"Precission\")\n",
    "plt.xlabel(\"Epoch\")\n",
    "plt.legend(loc='center left', bbox_to_anchor=(1, 0.5))\n",
    "plt.show()\n",
    "\n",
    "#Visualisasi Recall Model\n",
    "plt.plot(iterasi, adam_rec, label='Adam', color=new_colors[0], linewidth=2)\n",
    "plt.plot(iterasi, adam_val_rec, label='Val_Adam', color=new_colors[1], linewidth=2)\n",
    "plt.plot(iterasi, nadam_rec, label='Nadam', color=new_colors[2], linewidth=2)\n",
    "plt.plot(iterasi, nadam_val_rec, label='Val_Nadam', color=new_colors[3], linewidth=2)\n",
    "plt.title(\"Model Recall Adam VS Nadam\")\n",
    "plt.ylabel(\"Recall\")\n",
    "plt.xlabel(\"Epoch\")\n",
    "plt.legend(loc='center left', bbox_to_anchor=(1, 0.5))\n",
    "plt.show()"
   ]
  },
  {
   "cell_type": "markdown",
   "metadata": {
    "id": "yOjBlWmksdU1"
   },
   "source": [
    "# **Test Model**"
   ]
  },
  {
   "cell_type": "code",
   "execution_count": null,
   "metadata": {
    "id": "M2_L36MDshTY"
   },
   "outputs": [],
   "source": [
    "#Predict use Adam Model\n",
    "from google.colab import files\n",
    "%matplotlib inline\n",
    "\n",
    "uploaded = files.upload()\n",
    "for fn in uploaded.keys():\n",
    "  path = fn\n",
    "  img = image.load_img(path, target_size=(150,150))\n",
    "  imgplot = plt.imshow(img)\n",
    "  x = image.img_to_array(img)\n",
    "  x = np.expand_dims(x, axis=0)\n",
    "\n",
    "  images = np.vstack([x])\n",
    "  classes = ModelAdam.predict(images, batch_size=10)\n",
    "\n",
    "  print(fn)\n",
    "\n",
    "  if classes[0,0] !=0:\n",
    "    print(\"Gambar ini menunjukkan Kelas Tumor Otak\")\n",
    "  else:\n",
    "    print(\"Gambar ini menunjukkan Kelas No Tumor Otak\")\n"
   ]
  },
  {
   "cell_type": "code",
   "execution_count": null,
   "metadata": {
    "id": "PPIM8f8Vsxcq"
   },
   "outputs": [],
   "source": [
    "#Predict use Nadam Model\n",
    "from google.colab import files\n",
    "%matplotlib inline\n",
    "\n",
    "uploaded = files.upload()\n",
    "for fn in uploaded.keys():\n",
    "  path = fn\n",
    "  img = image.load_img(path, target_size=(150,150))\n",
    "  imgplot = plt.imshow(img)\n",
    "  x = image.img_to_array(img)\n",
    "  x = np.expand_dims(x, axis=0)\n",
    "\n",
    "  images = np.vstack([x])\n",
    "  classes = ModelNadam.predict(images, batch_size=10)\n",
    "\n",
    "  print(fn)\n",
    "\n",
    "  if classes[0,0] !=0:\n",
    "    print(\"Gambar ini menunjukkan Kelas Tumor Otak\")\n",
    "  else:\n",
    "    print(\"Gambar ini menunjukkan Kelas No Tumor Otak\")\n"
   ]
  },
  {
   "cell_type": "markdown",
   "metadata": {
    "id": "3M2QtQeNs5xH"
   },
   "source": [
    "#**Save Model**\n"
   ]
  },
  {
   "cell_type": "code",
   "execution_count": null,
   "metadata": {
    "id": "9Z7mB1Q-s6ek"
   },
   "outputs": [],
   "source": [
    "#install h5py\n",
    "!pip install h5py"
   ]
  },
  {
   "cell_type": "code",
   "execution_count": null,
   "metadata": {
    "id": "pBMjw4TFs7lo"
   },
   "outputs": [],
   "source": [
    "# Save model Adam\n",
    "model_json = ModelAdam.to_json()\n",
    "with open(\"ModelAdam.json\", \"w\") as json_file:\n",
    "    json_file.write(model_json)\n",
    "\n",
    "# serialize weights to HDF5\n",
    "ModelAdam.save_weights(\"ModelAdam.h5\")\n",
    "print(\"Saved model to disk\")"
   ]
  },
  {
   "cell_type": "code",
   "execution_count": null,
   "metadata": {
    "id": "xLX-S27qtDDt"
   },
   "outputs": [],
   "source": [
    "# Save model Nadam\n",
    "model_json = ModelNadam.to_json()\n",
    "with open(\"ModelNadam.json\", \"w\") as json_file:\n",
    "    json_file.write(model_json)\n",
    "# serialize weights to HDF5\n",
    "ModelNadam.save_weights(\"ModelNadam.h5\")\n",
    "print(\"Saved model to disk\")"
   ]
  }
 ],
 "metadata": {
  "colab": {
   "collapsed_sections": [
    "_dLXYLUrjGDN",
    "57GKbLrknjkI",
    "cjF833iToe0I",
    "lBYBJdK4sREK",
    "yOjBlWmksdU1",
    "3M2QtQeNs5xH"
   ],
   "provenance": []
  },
  "kernelspec": {
   "display_name": "Python 3 (ipykernel)",
   "language": "python",
   "name": "python3"
  },
  "language_info": {
   "codemirror_mode": {
    "name": "ipython",
    "version": 3
   },
   "file_extension": ".py",
   "mimetype": "text/x-python",
   "name": "python",
   "nbconvert_exporter": "python",
   "pygments_lexer": "ipython3",
   "version": "3.11.4"
  }
 },
 "nbformat": 4,
 "nbformat_minor": 1
}
